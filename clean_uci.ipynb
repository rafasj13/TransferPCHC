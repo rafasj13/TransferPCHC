{
 "cells": [
  {
   "cell_type": "code",
   "execution_count": 2,
   "metadata": {},
   "outputs": [],
   "source": [
    "import pandas as pd\n",
    "from utils.util_draw import *\n",
    "from utils.util_metrics import *\n",
    "from ucimlrepo import fetch_ucirepo \n",
    "import time "
   ]
  },
  {
   "cell_type": "markdown",
   "metadata": {},
   "source": [
    "## PUBLIC DATASETS "
   ]
  },
  {
   "cell_type": "markdown",
   "metadata": {},
   "source": [
    "### UCI REPOSITORY\n",
    "https://archive.ics.uci.edu/datasets?FeatureTypes=Numerical&Python=true&skip=0&take=10&sort=desc&orderBy=NumHits&search=\n",
    "\n",
    "Download the datasets from UCI repository\n"
   ]
  },
  {
   "cell_type": "code",
   "execution_count": 9,
   "metadata": {},
   "outputs": [],
   "source": [
    "savepath = './public_datasets/uci_repos/'"
   ]
  },
  {
   "cell_type": "code",
   "execution_count": null,
   "metadata": {},
   "outputs": [],
   "source": [
    "# fetch dataset \n",
    "individual_household_electric_power_consumption = fetch_ucirepo(id=235) \n",
    "  \n",
    "# data (as pandas dataframes) \n",
    "X = individual_household_electric_power_consumption.data.features \n",
    "y = individual_household_electric_power_consumption.data.targets \n",
    "  \n",
    "X.to_csv(savepath+'3_individual_household_electric_power_consumption.csv', index=False)\n",
    "individual_household_electric_power_consumption.metadata"
   ]
  },
  {
   "cell_type": "code",
   "execution_count": null,
   "metadata": {},
   "outputs": [],
   "source": [
    "# fetch dataset \n",
    "appliances_energy_prediction = fetch_ucirepo(id=374) \n",
    "  \n",
    "# data (as pandas dataframes) \n",
    "X = appliances_energy_prediction.data.features \n",
    "y = appliances_energy_prediction.data.targets \n",
    "\n",
    "X.to_csv(savepath+'5_appliances_energy_prediction.csv', index=False)\n",
    "appliances_energy_prediction.metadata"
   ]
  },
  {
   "cell_type": "code",
   "execution_count": null,
   "metadata": {},
   "outputs": [],
   "source": [
    "# fetch dataset \n",
    "magic_gamma_telescope = fetch_ucirepo(id=159) \n",
    "  \n",
    "# data (as pandas dataframes) \n",
    "X = magic_gamma_telescope.data.features \n",
    "y = magic_gamma_telescope.data.targets \n",
    "\n",
    "X.to_csv(savepath+'4_magic_gamma_telescope.csv', index=False)\n",
    "magic_gamma_telescope.metadata"
   ]
  },
  {
   "cell_type": "code",
   "execution_count": null,
   "metadata": {},
   "outputs": [],
   "source": [
    "# fetch dataset \n",
    "single_elder_home_monitoring_gas_and_position = fetch_ucirepo(id=799) \n",
    "  \n",
    "# data (as pandas dataframes) \n",
    "X = single_elder_home_monitoring_gas_and_position.data.features \n",
    "y = single_elder_home_monitoring_gas_and_position.data.targets \n",
    "\n",
    "X.to_csv(savepath+'1_single_elder_home_monitoring_gas_and_position.csv', index=False)\n",
    "single_elder_home_monitoring_gas_and_position.metadata"
   ]
  },
  {
   "cell_type": "code",
   "execution_count": null,
   "metadata": {},
   "outputs": [],
   "source": [
    "# fetch dataset\n",
    "htru2 = fetch_ucirepo(id=372)\n",
    "\n",
    "# data (as pandas dataframes)\n",
    "X = htru2.data.features\n",
    "y = htru2.data.targets\n",
    "\n",
    "X.to_csv(savepath+'2_htru2.csv', index=False)\n",
    "htru2.metadata"
   ]
  },
  {
   "cell_type": "markdown",
   "metadata": {},
   "source": [
    "### PREPARE UCI CSVs\n",
    "Read the CSVs and prepare them (drop datestamps, identifiers, etc.)"
   ]
  },
  {
   "cell_type": "code",
   "execution_count": 3,
   "metadata": {},
   "outputs": [
    {
     "name": "stderr",
     "output_type": "stream",
     "text": [
      "/tmp/ipykernel_6234/1498233567.py:3: DtypeWarning: Columns (2,3,4,5,6,7) have mixed types. Specify dtype option on import or set low_memory=False.\n",
      "  data3 = pd.read_csv('./public_datasets/uci_repos/3_individual_household_electric_power_consumption.csv')\n"
     ]
    }
   ],
   "source": [
    "data1 = pd.read_csv('./public_datasets/uci_repos/1_single_elder_home_monitoring_gas_and_position.csv')\n",
    "data2 = pd.read_csv('./public_datasets/uci_repos/2_htru2.csv')\n",
    "data3 = pd.read_csv('./public_datasets/uci_repos/3_individual_household_electric_power_consumption.csv')\n",
    "data4 = pd.read_csv('./public_datasets/uci_repos/4_magic_gamma_telescope.csv')\n",
    "data5 = pd.read_csv('./public_datasets/uci_repos/5_appliances_energy_prediction.csv')"
   ]
  },
  {
   "cell_type": "code",
   "execution_count": 4,
   "metadata": {},
   "outputs": [
    {
     "name": "stdout",
     "output_type": "stream",
     "text": [
      "(416153, 9)\n",
      "(17898, 8)\n",
      "(2049280, 7)\n",
      "(19020, 10)\n",
      "{'lights': (8,)}\n",
      "(19735, 24)\n"
     ]
    }
   ],
   "source": [
    "drop1 = ['timestamp']\n",
    "drop3 = ['Date','Time']\n",
    "drop5 = ['date','rv1','rv2']\n",
    "drops = drop1+drop3+drop5\n",
    "names = ['1_single_elder_home_monitoring_gas_and_position', '2_htru2', '3_individual_household_electric_power_consumption', '4_magic_gamma_telescope', '5_appliances_energy_prediction']\n",
    "\n",
    "for n, data in enumerate([data1, data2, data3, data4, data5]):\n",
    "    data = data.dropna()\n",
    "\n",
    "    columns = data.columns\n",
    "    value_counts = {col:data[col].unique().shape[0] for col in columns}\n",
    "    # print(value_counts)\n",
    "    \n",
    "    col_drops = [col for col in columns if col not in drops]\n",
    "    data_ready = data[col_drops]\n",
    "    data_ready = data_ready.astype(float)\n",
    "    discrete_columns = [col for col in col_drops if data_ready[col].unique().shape[0] < 10]\n",
    "    if len(discrete_columns) > 0:\n",
    "        print({col:data_ready[col].unique().shape for col in col_drops if data_ready[col].unique().shape[0] < 10})\n",
    "        data_ready = data_ready.drop(discrete_columns, axis=1)\n",
    "\n",
    "    print(data_ready.shape)\n",
    "\n",
    "    save = f'./public_datasets/uci_ready/{names[n]}.csv'\n",
    "    # data_ready.to_csv(save, index=False)\n",
    "\n",
    "    "
   ]
  },
  {
   "cell_type": "code",
   "execution_count": null,
   "metadata": {},
   "outputs": [],
   "source": []
  }
 ],
 "metadata": {
  "kernelspec": {
   "display_name": "pybnesianFT",
   "language": "python",
   "name": "python3"
  },
  "language_info": {
   "codemirror_mode": {
    "name": "ipython",
    "version": 3
   },
   "file_extension": ".py",
   "mimetype": "text/x-python",
   "name": "python",
   "nbconvert_exporter": "python",
   "pygments_lexer": "ipython3",
   "version": "3.9.19"
  }
 },
 "nbformat": 4,
 "nbformat_minor": 2
}
